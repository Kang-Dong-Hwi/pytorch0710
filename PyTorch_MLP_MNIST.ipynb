{
 "cells": [
  {
   "cell_type": "markdown",
   "metadata": {},
   "source": [
    "#### PyTorch CNN MNIST"
   ]
  },
  {
   "cell_type": "code",
   "execution_count": 1,
   "metadata": {},
   "outputs": [],
   "source": [
    "import torch\n",
    "import numpy as np\n",
    "\n",
    "import idx2numpy\n",
    "import matplotlib.cm as cm\n",
    "import matplotlib.pyplot as plt\n",
    "\n",
    "PATH = 'C:/Projects/keras_talk/keras/intern/0709/MNIST/'\n",
    "EPOCHS = 20\n",
    "BATCH_SIZE = 50\n",
    "D=(60000//BATCH_SIZE) // 50\n",
    "\n",
    "def one_hot_encoding( y, L ):\n",
    "    Encoded_y = []\n",
    "    N = len(y)\n",
    "    for number in range(N):\n",
    "        encoding = [0]*L\n",
    "        np.asarray(encoding)\n",
    "        encoding[ y[number] ] = 1\n",
    "        Encoded_y.append(encoding)\n",
    "    \n",
    "    return np.asarray(Encoded_y)\n"
   ]
  },
  {
   "cell_type": "markdown",
   "metadata": {},
   "source": [
    "#### data"
   ]
  },
  {
   "cell_type": "code",
   "execution_count": 2,
   "metadata": {},
   "outputs": [],
   "source": [
    "x_test_path = 't10k-images.idx3-ubyte'\n",
    "y_test_path = 't10k-labels.idx1-ubyte'\n",
    "x_train_path = 'train-images.idx3-ubyte'\n",
    "y_train_path = 'train-labels.idx1-ubyte'\n",
    "\n",
    "\n",
    "x_test = idx2numpy.convert_from_file(PATH+x_test_path)\n",
    "y_test = idx2numpy.convert_from_file(PATH+y_test_path)\n",
    "x_train = idx2numpy.convert_from_file(PATH+x_train_path)\n",
    "y_train = idx2numpy.convert_from_file(PATH+y_train_path)\n",
    "\n",
    "\n",
    "x_test  = x_test.reshape ( len(x_test),    28* 28 ).astype('float32') / 255.\n",
    "x_train = x_train.reshape( len(x_train),   28* 28 ).astype('float32') / 255.        \n",
    "#y_test  = one_hot_encoding(y_test,10)\n",
    "#y_train = one_hot_encoding(y_train,10)\n"
   ]
  },
  {
   "cell_type": "markdown",
   "metadata": {},
   "source": [
    "#### Data_loader 구성"
   ]
  },
  {
   "cell_type": "code",
   "execution_count": 3,
   "metadata": {},
   "outputs": [
    {
     "name": "stderr",
     "output_type": "stream",
     "text": [
      "..\\torch\\csrc\\utils\\tensor_numpy.cpp:141: UserWarning: The given NumPy array is not writeable, and PyTorch does not support non-writeable tensors. This means you can write to the underlying (supposedly non-writeable) NumPy array using the tensor. You may want to copy the array to protect its data or make it writeable before converting it to a tensor. This type of warning will be suppressed for the rest of this program.\n"
     ]
    }
   ],
   "source": [
    "from torch.utils.data import TensorDataset\n",
    "from torch.utils.data import DataLoader\n",
    "\n",
    "\n",
    "x_test  = torch.from_numpy(x_test ).float().to('cpu')\n",
    "x_train = torch.from_numpy(x_train).float().to('cpu')\n",
    "y_test  = torch.from_numpy(y_test ).long().to('cpu')\n",
    "y_train = torch.from_numpy(y_train).long().to('cpu')\n",
    "\n",
    "\n",
    "dataset      = TensorDataset(x_train, y_train)\n",
    "dataset_test = TensorDataset(x_test, y_test)\n",
    "\n",
    "dataloader      = DataLoader( dataset, batch_size = BATCH_SIZE\n",
    "                        ,shuffle= True, drop_last = True ) \n",
    "dataloader_test = DataLoader( dataset_test, batch_size = BATCH_SIZE\n",
    "                        ,shuffle= True, drop_last = True )"
   ]
  },
  {
   "cell_type": "markdown",
   "metadata": {},
   "source": [
    "#### pytorch model 구성"
   ]
  },
  {
   "cell_type": "code",
   "execution_count": 4,
   "metadata": {},
   "outputs": [],
   "source": [
    "import torch.nn\n",
    "import torch.nn.functional\n",
    "import torch.optim\n",
    "\n",
    "class MLP( torch.nn.Module ):\n",
    "    def __init__(self):\n",
    "        super(MLP, self).__init__()\n",
    "        \n",
    "        self.lay1  = torch.nn.Linear( 28*28, 256 )\n",
    "        self.relu1 = torch.nn.ReLU()\n",
    "        self.lay2  = torch.nn.Linear( 256, 256 )\n",
    "        self.relu2 = torch.nn.ReLU()\n",
    "        self.lay3  = torch.nn.Linear( 256, 256 )\n",
    "        self.relu3 = torch.nn.ReLU()\n",
    "        self.lay4  = torch.nn.Linear( 256, 128 )\n",
    "        self.relu4 = torch.nn.ReLU()\n",
    "        self.lay5  = torch.nn.Linear( 128, 128 )\n",
    "        self.relu5 = torch.nn.ReLU()\n",
    "        self.lay6  = torch.nn.Linear( 128, 10 )\n",
    "        self.relu6 = torch.nn.ReLU()\n",
    "        self.dropout= torch.nn.Dropout()\n",
    "        \n",
    "        \n",
    "    def forward(self, x):\n",
    "        output = self.lay1(x)\n",
    "        output = self.relu1(output)\n",
    "        output = self.lay2(output)\n",
    "        output = self.relu2(output)\n",
    "        output = self.lay3(output)\n",
    "        output = self.relu3(output)\n",
    "        output = self.lay4(output)\n",
    "        output = self.relu4(output)\n",
    "        output = self.lay5(output)\n",
    "        output = self.relu5(output)\n",
    "        output = self.lay6(output)\n",
    "        output = self.relu6(output)\n",
    "        output = self.dropout(output)\n",
    "        output = torch.nn.functional.softmax(output, dim=1)\n",
    "        \n",
    "        return output\n",
    "        \n"
   ]
  },
  {
   "cell_type": "markdown",
   "metadata": {},
   "source": [
    "#### model 학습"
   ]
  },
  {
   "cell_type": "code",
   "execution_count": 5,
   "metadata": {},
   "outputs": [
    {
     "name": "stdout",
     "output_type": "stream",
     "text": [
      "epoch1:  [%%%%%%%]\n",
      "    loss:  2.0973684787750244\tacc:   30.0\n",
      "epoch2:  [%%%%%%%]\n",
      "    loss:  2.06443190574646\tacc:   32.0\n",
      "epoch3:  [%%%%%%%]\n",
      "    loss:  1.9467321634292603\tacc:   52.0\n",
      "epoch4:  [%%%%%%%]\n",
      "    loss:  2.034698724746704\tacc:   36.0\n",
      "epoch5:  [%%%%%%%]\n",
      "    loss:  2.019996404647827\tacc:   38.0\n",
      "epoch6:  [%%%%%%%]\n",
      "    loss:  2.107069730758667\tacc:   28.0\n",
      "epoch7:  [%%%%%%%]\n",
      "    loss:  1.9865912199020386\tacc:   44.0\n",
      "epoch8:  [%%%%%%%]\n",
      "    loss:  2.071624994277954\tacc:   30.0\n",
      "epoch9:  [%%%%%%%]\n",
      "    loss:  2.004092216491699\tacc:   40.0\n",
      "epoch10:  [%%%%%%%]\n",
      "    loss:  2.039726972579956\tacc:   38.0\n",
      "epoch11:  [%%%%%%%]\n",
      "    loss:  1.9833678007125854\tacc:   38.0\n",
      "epoch12:  [%%%%%%%]\n",
      "    loss:  2.0476770401000977\tacc:   38.0\n",
      "epoch13:  [%%%%%%%]\n",
      "    loss:  2.000324010848999\tacc:   38.0\n",
      "epoch14:  [%%%%%%%]\n",
      "    loss:  2.0387167930603027\tacc:   38.0\n",
      "epoch15:  [%%%%%%%]\n",
      "    loss:  1.9508213996887207\tacc:   48.0\n",
      "epoch16:  [%%%%%%%]\n",
      "    loss:  2.0368645191192627\tacc:   38.0\n",
      "epoch17:  [%%%%%%%]\n",
      "    loss:  2.109886884689331\tacc:   28.0\n",
      "epoch18:  [%%%%%%%]\n",
      "    loss:  1.9829174280166626\tacc:   42.0\n",
      "epoch19:  [%%%%%%%]\n",
      "    loss:  2.0195093154907227\tacc:   38.0\n",
      "epoch20:  [%%%%%%%]\n",
      "    loss:  1.966392159461975\tacc:   42.0\n"
     ]
    }
   ],
   "source": [
    "\n",
    "torch.manual_seed(1)\n",
    "\n",
    "model = MLP()\n",
    "criterion = torch.nn.CrossEntropyLoss()\n",
    "optimizer = torch.optim.Adam(model.parameters(), lr=0.0001)\n",
    "\n",
    "\n",
    "model.train()\n",
    "for epoch in range(EPOCHS):\n",
    "    train_loss = 0.0\n",
    "    \n",
    "    print('epoch'+str(epoch+1)+':  [', end='')\n",
    "    for i,(data, label) in enumerate(dataloader):\n",
    "\n",
    "        optimizer.zero_grad()\n",
    "        output = model(data)\n",
    "        loss = criterion(output, label)\n",
    "        loss.backward()\n",
    "        optimizer.step()\n",
    "        \n",
    "        total = label.size(0)\n",
    "        preds = torch.max(output.data,1)[1]\n",
    "        correct = (preds == label).sum().item()\n",
    "        \n",
    "        \n",
    "  \n",
    "        #progress bar\n",
    "        if D == i:\n",
    "            print('%', end='')\n",
    "            D += D\n",
    "            \n",
    "    print('%]')\n",
    "    D = (60000//BATCH_SIZE)//50        \n",
    "        \n",
    "    #summary \n",
    "    print('    loss: ', loss.item(), end='\\t')\n",
    "    print('acc:  ', 100.*correct/total)\n",
    "\n",
    "\n"
   ]
  },
  {
   "cell_type": "markdown",
   "metadata": {},
   "source": [
    "#### 학습 결과"
   ]
  },
  {
   "cell_type": "code",
   "execution_count": 6,
   "metadata": {},
   "outputs": [
    {
     "name": "stdout",
     "output_type": "stream",
     "text": [
      "Test Accuracy:  68.76\n"
     ]
    }
   ],
   "source": [
    "model.eval()\n",
    "\n",
    "with torch.no_grad():\n",
    "    correct = 0\n",
    "    total = 0\n",
    "    for data, label in dataloader_test:\n",
    "        output = model(data)\n",
    "        preds  = torch.max(output.data, 1)[1]\n",
    "        total   += len(label)\n",
    "        correct += (preds==label).sum().item()\n",
    "    print('Test Accuracy: ', 100.*correct/total)"
   ]
  }
 ],
 "metadata": {
  "kernelspec": {
   "display_name": "Python 3",
   "language": "python",
   "name": "python3"
  },
  "language_info": {
   "codemirror_mode": {
    "name": "ipython",
    "version": 3
   },
   "file_extension": ".py",
   "mimetype": "text/x-python",
   "name": "python",
   "nbconvert_exporter": "python",
   "pygments_lexer": "ipython3",
   "version": "3.7.7"
  }
 },
 "nbformat": 4,
 "nbformat_minor": 4
}
