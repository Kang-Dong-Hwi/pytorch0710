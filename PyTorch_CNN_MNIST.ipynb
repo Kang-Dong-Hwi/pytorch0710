{
 "cells": [
  {
   "cell_type": "markdown",
   "metadata": {},
   "source": [
    "#### PyTorch CNN MNIST"
   ]
  },
  {
   "cell_type": "code",
   "execution_count": 1,
   "metadata": {},
   "outputs": [],
   "source": [
    "import torch\n",
    "import numpy as np\n",
    "\n",
    "import idx2numpy\n",
    "import matplotlib.cm as cm\n",
    "import matplotlib.pyplot as plt\n",
    "\n",
    "PATH = 'C:/Projects/keras_talk/keras/intern/0709/MNIST/'\n",
    "EPOCHS = 10\n",
    "BATCH_SIZE = 100\n",
    "D=(60000//BATCH_SIZE) // 20\n",
    "\n",
    "def one_hot_encoding( y, L ):\n",
    "    Encoded_y = []\n",
    "    N = len(y)\n",
    "    for number in range(N):\n",
    "        encoding = [0]*L\n",
    "        np.asarray(encoding)\n",
    "        encoding[ y[number] ] = 1\n",
    "        Encoded_y.append(encoding)\n",
    "    \n",
    "    return np.asarray(Encoded_y)\n"
   ]
  },
  {
   "cell_type": "markdown",
   "metadata": {},
   "source": [
    "#### data"
   ]
  },
  {
   "cell_type": "code",
   "execution_count": 2,
   "metadata": {},
   "outputs": [],
   "source": [
    "x_test_path = 't10k-images.idx3-ubyte'\n",
    "y_test_path = 't10k-labels.idx1-ubyte'\n",
    "x_train_path = 'train-images.idx3-ubyte'\n",
    "y_train_path = 'train-labels.idx1-ubyte'\n",
    "\n",
    "\n",
    "x_test = idx2numpy.convert_from_file(PATH+x_test_path)\n",
    "y_test = idx2numpy.convert_from_file(PATH+y_test_path)\n",
    "x_train = idx2numpy.convert_from_file(PATH+x_train_path)\n",
    "y_train = idx2numpy.convert_from_file(PATH+y_train_path)\n",
    "\n",
    "\n",
    "x_test  = x_test.reshape ( len(x_test),  1, 28, 28).astype('float32') / 255.\n",
    "x_train = x_train.reshape( len(x_train), 1, 28, 28).astype('float32') / 255.        \n",
    "#y_test  = one_hot_encoding(y_test,10)\n",
    "#y_train = one_hot_encoding(y_train,10)\n"
   ]
  },
  {
   "cell_type": "markdown",
   "metadata": {},
   "source": [
    "#### Data_loader 구성"
   ]
  },
  {
   "cell_type": "code",
   "execution_count": 3,
   "metadata": {},
   "outputs": [
    {
     "name": "stderr",
     "output_type": "stream",
     "text": [
      "..\\torch\\csrc\\utils\\tensor_numpy.cpp:141: UserWarning: The given NumPy array is not writeable, and PyTorch does not support non-writeable tensors. This means you can write to the underlying (supposedly non-writeable) NumPy array using the tensor. You may want to copy the array to protect its data or make it writeable before converting it to a tensor. This type of warning will be suppressed for the rest of this program.\n"
     ]
    }
   ],
   "source": [
    "from torch.utils.data import TensorDataset\n",
    "from torch.utils.data import DataLoader\n",
    "\n",
    "\n",
    "x_test  = torch.from_numpy(x_test ).float().to('cpu')\n",
    "x_train = torch.from_numpy(x_train).float().to('cpu')\n",
    "y_test  = torch.from_numpy(y_test ).long().to('cpu')\n",
    "y_train = torch.from_numpy(y_train).long().to('cpu')\n",
    "\n",
    "\n",
    "dataset      = TensorDataset(x_train, y_train)\n",
    "dataset_test = TensorDataset(x_test, y_test)\n",
    "\n",
    "dataloader      = DataLoader( dataset, batch_size = BATCH_SIZE\n",
    "                        ,shuffle= True, drop_last = True ) \n",
    "dataloader_test = DataLoader( dataset_test, batch_size = BATCH_SIZE\n",
    "                        ,shuffle= True, drop_last = True )"
   ]
  },
  {
   "cell_type": "markdown",
   "metadata": {},
   "source": [
    "#### pytorch model 구성"
   ]
  },
  {
   "cell_type": "code",
   "execution_count": 4,
   "metadata": {},
   "outputs": [],
   "source": [
    "import torch.nn\n",
    "import torch.nn.functional\n",
    "import torch.optim\n",
    "\n",
    "class CNN( torch.nn.Module ):\n",
    "    def __init__(self):\n",
    "        super(CNN, self).__init__()\n",
    "        \n",
    "        self.conv1  = torch.nn.Conv2d( in_channels =  1, out_channels = 16, kernel_size = 3 )\n",
    "        self.Crelu1 = torch.nn.ReLU()\n",
    "        self.conv2  = torch.nn.Conv2d( in_channels = 16, out_channels = 32, kernel_size = 3 )\n",
    "        self.Crelu2 = torch.nn.ReLU()\n",
    "        self.maxpl  = torch.nn.MaxPool2d( kernel_size=2 )\n",
    "        #flatten()\n",
    "        self.dropout= torch.nn.Dropout()\n",
    "        self.lay1   = torch.nn.Linear( 12*12*32, 32 )\n",
    "        self.Lrelu1 = torch.nn.ReLU()\n",
    "        self.lay2   = torch.nn.Linear( 32, 10 )\n",
    "        \n",
    "        \n",
    "    def forward(self, x):\n",
    "        output = self.conv1(x)\n",
    "        output = self.Crelu1(output)\n",
    "        output = self.conv2(output)\n",
    "        output = self.Crelu2(output)\n",
    "        output = self.maxpl(output)\n",
    "        output = output.view(-1,12*12*32)\n",
    "        output = self.dropout(output)\n",
    "        output = self.lay1(output)\n",
    "        output = self.Lrelu1(output)\n",
    "        output = self.lay2(output)\n",
    "        output = torch.nn.functional.softmax(output, dim=1)\n",
    "        \n",
    "        return output\n",
    "        \n"
   ]
  },
  {
   "cell_type": "markdown",
   "metadata": {},
   "source": [
    "#### model 학습"
   ]
  },
  {
   "cell_type": "code",
   "execution_count": 5,
   "metadata": {},
   "outputs": [
    {
     "name": "stdout",
     "output_type": "stream",
     "text": [
      "epoch1:  [%%%%%%]\n",
      "    loss:  1.613397240638733\tacc:   85.0\n",
      "epoch2:  [%%%%%%]\n",
      "    loss:  1.6085530519485474\tacc:   87.0\n",
      "epoch3:  [%%%%%%]\n",
      "    loss:  1.5615794658660889\tacc:   91.0\n",
      "epoch4:  [%%%%%%]\n",
      "    loss:  1.615219235420227\tacc:   85.0\n",
      "epoch5:  [%%%%%%]\n",
      "    loss:  1.6781240701675415\tacc:   79.0\n",
      "epoch6:  [%%%%%%]\n",
      "    loss:  1.6095837354660034\tacc:   86.0\n",
      "epoch7:  [%%%%%%]\n",
      "    loss:  1.609041690826416\tacc:   85.0\n",
      "epoch8:  [%%%%%%]\n",
      "    loss:  1.5835572481155396\tacc:   88.0\n",
      "epoch9:  [%%%%%%]\n",
      "    loss:  1.5934165716171265\tacc:   87.0\n",
      "epoch10:  [%%%%%%]\n",
      "    loss:  1.553545355796814\tacc:   91.0\n"
     ]
    }
   ],
   "source": [
    "\n",
    "torch.manual_seed(1)\n",
    "\n",
    "model = CNN()\n",
    "criterion = torch.nn.CrossEntropyLoss()\n",
    "optimizer = torch.optim.Adam(model.parameters(), lr=0.0001)\n",
    "\n",
    "\n",
    "model.train()\n",
    "for epoch in range(EPOCHS):\n",
    "    train_loss = 0.0\n",
    "    \n",
    "    print('epoch'+str(epoch+1)+':  [', end='')\n",
    "    for i,(data, label) in enumerate(dataloader):\n",
    "\n",
    "        optimizer.zero_grad()\n",
    "        output = model(data)\n",
    "        loss = criterion(output, label)\n",
    "        loss.backward()\n",
    "        optimizer.step()\n",
    "        \n",
    "        total = label.size(0)\n",
    "        preds = torch.max(output.data,1)[1]\n",
    "        correct = (preds == label).sum().item()\n",
    "        \n",
    "        \n",
    "  \n",
    "        #progress bar\n",
    "        if D == i:\n",
    "            print('%', end='')\n",
    "            D += D\n",
    "            \n",
    "    print('%]')\n",
    "    D = (60000//BATCH_SIZE)//20        \n",
    "        \n",
    "    #summary \n",
    "    print('    loss: ', loss.item(), end='\\t')\n",
    "    print('acc:  ', 100.*correct/total)\n",
    "\n",
    "\n"
   ]
  },
  {
   "cell_type": "markdown",
   "metadata": {},
   "source": [
    "#### 학습 결과"
   ]
  },
  {
   "cell_type": "code",
   "execution_count": 6,
   "metadata": {},
   "outputs": [
    {
     "name": "stdout",
     "output_type": "stream",
     "text": [
      "Test Accuracy:  87.0\n"
     ]
    }
   ],
   "source": [
    "model.eval()\n",
    "\n",
    "with torch.no_grad():\n",
    "    correct = 0\n",
    "    total = 0\n",
    "    for data, label in dataloader_test:\n",
    "        output = model(data)\n",
    "        preds  = torch.max(output.data, 1)[1]\n",
    "        total   += len(label)\n",
    "        correct += (preds==label).sum().item()\n",
    "    print('Test Accuracy: ', 100.*correct/total)"
   ]
  }
 ],
 "metadata": {
  "kernelspec": {
   "display_name": "Python 3",
   "language": "python",
   "name": "python3"
  },
  "language_info": {
   "codemirror_mode": {
    "name": "ipython",
    "version": 3
   },
   "file_extension": ".py",
   "mimetype": "text/x-python",
   "name": "python",
   "nbconvert_exporter": "python",
   "pygments_lexer": "ipython3",
   "version": "3.7.7"
  }
 },
 "nbformat": 4,
 "nbformat_minor": 4
}
